{
  "nbformat": 4,
  "nbformat_minor": 0,
  "metadata": {
    "colab": {
      "name": "Untitled9.ipynb",
      "provenance": []
    },
    "kernelspec": {
      "name": "python3",
      "display_name": "Python 3"
    },
    "language_info": {
      "name": "python"
    },
    "accelerator": "TPU"
  },
  "cells": [
    {
      "cell_type": "code",
      "metadata": {
        "id": "pTQ3Z3hv3P7m"
      },
      "source": [
        "import pandas as pd\n",
        "import numpy as np\n",
        "data = pd.read_csv(\"casestudy (1).csv\")"
      ],
      "execution_count": 1,
      "outputs": []
    },
    {
      "cell_type": "code",
      "metadata": {
        "colab": {
          "base_uri": "https://localhost:8080/"
        },
        "id": "t8tiyQqZ34fB",
        "outputId": "b1492494-398c-4fad-f27a-5607ffe70813"
      },
      "source": [
        "data.info()"
      ],
      "execution_count": null,
      "outputs": [
        {
          "output_type": "stream",
          "name": "stdout",
          "text": [
            "<class 'pandas.core.frame.DataFrame'>\n",
            "RangeIndex: 685927 entries, 0 to 685926\n",
            "Data columns (total 4 columns):\n",
            " #   Column          Non-Null Count   Dtype  \n",
            "---  ------          --------------   -----  \n",
            " 0   Unnamed: 0      685927 non-null  int64  \n",
            " 1   customer_email  685927 non-null  object \n",
            " 2   net_revenue     685927 non-null  float64\n",
            " 3   year            685927 non-null  int64  \n",
            "dtypes: float64(1), int64(2), object(1)\n",
            "memory usage: 20.9+ MB\n"
          ]
        }
      ]
    },
    {
      "cell_type": "code",
      "metadata": {
        "colab": {
          "base_uri": "https://localhost:8080/",
          "height": 204
        },
        "id": "JfgH2rm-38O4",
        "outputId": "a710ad0d-ab8f-463f-e3e4-8be646ad3099"
      },
      "source": [
        "data.head()"
      ],
      "execution_count": null,
      "outputs": [
        {
          "output_type": "execute_result",
          "data": {
            "text/html": [
              "<div>\n",
              "<style scoped>\n",
              "    .dataframe tbody tr th:only-of-type {\n",
              "        vertical-align: middle;\n",
              "    }\n",
              "\n",
              "    .dataframe tbody tr th {\n",
              "        vertical-align: top;\n",
              "    }\n",
              "\n",
              "    .dataframe thead th {\n",
              "        text-align: right;\n",
              "    }\n",
              "</style>\n",
              "<table border=\"1\" class=\"dataframe\">\n",
              "  <thead>\n",
              "    <tr style=\"text-align: right;\">\n",
              "      <th></th>\n",
              "      <th>Unnamed: 0</th>\n",
              "      <th>customer_email</th>\n",
              "      <th>net_revenue</th>\n",
              "      <th>year</th>\n",
              "    </tr>\n",
              "  </thead>\n",
              "  <tbody>\n",
              "    <tr>\n",
              "      <th>0</th>\n",
              "      <td>0</td>\n",
              "      <td>nhknapwsbx@gmail.com</td>\n",
              "      <td>249.92</td>\n",
              "      <td>2015</td>\n",
              "    </tr>\n",
              "    <tr>\n",
              "      <th>1</th>\n",
              "      <td>1</td>\n",
              "      <td>joiuzbvcpn@gmail.com</td>\n",
              "      <td>87.61</td>\n",
              "      <td>2015</td>\n",
              "    </tr>\n",
              "    <tr>\n",
              "      <th>2</th>\n",
              "      <td>2</td>\n",
              "      <td>ukkjctepxt@gmail.com</td>\n",
              "      <td>168.38</td>\n",
              "      <td>2015</td>\n",
              "    </tr>\n",
              "    <tr>\n",
              "      <th>3</th>\n",
              "      <td>3</td>\n",
              "      <td>gykatilzrt@gmail.com</td>\n",
              "      <td>62.40</td>\n",
              "      <td>2015</td>\n",
              "    </tr>\n",
              "    <tr>\n",
              "      <th>4</th>\n",
              "      <td>4</td>\n",
              "      <td>mmsgsrtxah@gmail.com</td>\n",
              "      <td>43.08</td>\n",
              "      <td>2015</td>\n",
              "    </tr>\n",
              "  </tbody>\n",
              "</table>\n",
              "</div>"
            ],
            "text/plain": [
              "   Unnamed: 0         customer_email  net_revenue  year\n",
              "0           0   nhknapwsbx@gmail.com       249.92  2015\n",
              "1           1   joiuzbvcpn@gmail.com        87.61  2015\n",
              "2           2   ukkjctepxt@gmail.com       168.38  2015\n",
              "3           3   gykatilzrt@gmail.com        62.40  2015\n",
              "4           4   mmsgsrtxah@gmail.com        43.08  2015"
            ]
          },
          "metadata": {},
          "execution_count": 3
        }
      ]
    },
    {
      "cell_type": "code",
      "metadata": {
        "colab": {
          "base_uri": "https://localhost:8080/",
          "height": 297
        },
        "id": "WAhDO2JYSdcJ",
        "outputId": "76edb07d-5479-435d-ffee-ba576e786551"
      },
      "source": [
        "data.describe()"
      ],
      "execution_count": null,
      "outputs": [
        {
          "output_type": "execute_result",
          "data": {
            "text/html": [
              "<div>\n",
              "<style scoped>\n",
              "    .dataframe tbody tr th:only-of-type {\n",
              "        vertical-align: middle;\n",
              "    }\n",
              "\n",
              "    .dataframe tbody tr th {\n",
              "        vertical-align: top;\n",
              "    }\n",
              "\n",
              "    .dataframe thead th {\n",
              "        text-align: right;\n",
              "    }\n",
              "</style>\n",
              "<table border=\"1\" class=\"dataframe\">\n",
              "  <thead>\n",
              "    <tr style=\"text-align: right;\">\n",
              "      <th></th>\n",
              "      <th>Unnamed: 0</th>\n",
              "      <th>net_revenue</th>\n",
              "      <th>year</th>\n",
              "    </tr>\n",
              "  </thead>\n",
              "  <tbody>\n",
              "    <tr>\n",
              "      <th>count</th>\n",
              "      <td>685927.000000</td>\n",
              "      <td>685927.000000</td>\n",
              "      <td>685927.000000</td>\n",
              "    </tr>\n",
              "    <tr>\n",
              "      <th>mean</th>\n",
              "      <td>342963.000000</td>\n",
              "      <td>125.647755</td>\n",
              "      <td>2016.027252</td>\n",
              "    </tr>\n",
              "    <tr>\n",
              "      <th>std</th>\n",
              "      <td>198010.213384</td>\n",
              "      <td>71.854528</td>\n",
              "      <td>0.837203</td>\n",
              "    </tr>\n",
              "    <tr>\n",
              "      <th>min</th>\n",
              "      <td>0.000000</td>\n",
              "      <td>1.000000</td>\n",
              "      <td>2015.000000</td>\n",
              "    </tr>\n",
              "    <tr>\n",
              "      <th>25%</th>\n",
              "      <td>171481.500000</td>\n",
              "      <td>63.510000</td>\n",
              "      <td>2015.000000</td>\n",
              "    </tr>\n",
              "    <tr>\n",
              "      <th>50%</th>\n",
              "      <td>342963.000000</td>\n",
              "      <td>125.730000</td>\n",
              "      <td>2016.000000</td>\n",
              "    </tr>\n",
              "    <tr>\n",
              "      <th>75%</th>\n",
              "      <td>514444.500000</td>\n",
              "      <td>187.820000</td>\n",
              "      <td>2017.000000</td>\n",
              "    </tr>\n",
              "    <tr>\n",
              "      <th>max</th>\n",
              "      <td>685926.000000</td>\n",
              "      <td>250.000000</td>\n",
              "      <td>2017.000000</td>\n",
              "    </tr>\n",
              "  </tbody>\n",
              "</table>\n",
              "</div>"
            ],
            "text/plain": [
              "          Unnamed: 0    net_revenue           year\n",
              "count  685927.000000  685927.000000  685927.000000\n",
              "mean   342963.000000     125.647755    2016.027252\n",
              "std    198010.213384      71.854528       0.837203\n",
              "min         0.000000       1.000000    2015.000000\n",
              "25%    171481.500000      63.510000    2015.000000\n",
              "50%    342963.000000     125.730000    2016.000000\n",
              "75%    514444.500000     187.820000    2017.000000\n",
              "max    685926.000000     250.000000    2017.000000"
            ]
          },
          "metadata": {},
          "execution_count": 4
        }
      ]
    },
    {
      "cell_type": "markdown",
      "metadata": {
        "id": "iPvU8cyx4JaF"
      },
      "source": [
        "***Total Revenue for the current Year***\n"
      ]
    },
    {
      "cell_type": "code",
      "metadata": {
        "colab": {
          "base_uri": "https://localhost:8080/"
        },
        "id": "jJk2x99C3_ZS",
        "outputId": "ecfef7e6-4c7c-4a15-aafc-fef9a2bae457"
      },
      "source": [
        "data['year'].value_counts()"
      ],
      "execution_count": null,
      "outputs": [
        {
          "output_type": "execute_result",
          "data": {
            "text/plain": [
              "2017    249987\n",
              "2015    231294\n",
              "2016    204646\n",
              "Name: year, dtype: int64"
            ]
          },
          "metadata": {},
          "execution_count": 34
        }
      ]
    },
    {
      "cell_type": "code",
      "metadata": {
        "colab": {
          "base_uri": "https://localhost:8080/",
          "height": 173
        },
        "id": "Z9A0sbvB4Sx7",
        "outputId": "b92864cb-6850-4f08-94d1-111509bb87d4"
      },
      "source": [
        "#from the above data we can see that the current year is \"2017\"\n",
        "data.groupby(['year'])[['net_revenue']].sum()"
      ],
      "execution_count": null,
      "outputs": [
        {
          "output_type": "execute_result",
          "data": {
            "text/html": [
              "<div>\n",
              "<style scoped>\n",
              "    .dataframe tbody tr th:only-of-type {\n",
              "        vertical-align: middle;\n",
              "    }\n",
              "\n",
              "    .dataframe tbody tr th {\n",
              "        vertical-align: top;\n",
              "    }\n",
              "\n",
              "    .dataframe thead th {\n",
              "        text-align: right;\n",
              "    }\n",
              "</style>\n",
              "<table border=\"1\" class=\"dataframe\">\n",
              "  <thead>\n",
              "    <tr style=\"text-align: right;\">\n",
              "      <th></th>\n",
              "      <th>net_revenue</th>\n",
              "    </tr>\n",
              "    <tr>\n",
              "      <th>year</th>\n",
              "      <th></th>\n",
              "    </tr>\n",
              "  </thead>\n",
              "  <tbody>\n",
              "    <tr>\n",
              "      <th>2015</th>\n",
              "      <td>29036749.19</td>\n",
              "    </tr>\n",
              "    <tr>\n",
              "      <th>2016</th>\n",
              "      <td>25730943.59</td>\n",
              "    </tr>\n",
              "    <tr>\n",
              "      <th>2017</th>\n",
              "      <td>31417495.03</td>\n",
              "    </tr>\n",
              "  </tbody>\n",
              "</table>\n",
              "</div>"
            ],
            "text/plain": [
              "      net_revenue\n",
              "year             \n",
              "2015  29036749.19\n",
              "2016  25730943.59\n",
              "2017  31417495.03"
            ]
          },
          "metadata": {},
          "execution_count": 35
        }
      ]
    },
    {
      "cell_type": "markdown",
      "metadata": {
        "id": "Ac3WTN5463O9"
      },
      "source": [
        "From the above data, we can see that the total_revenue for current year (2017) is 31417495.03"
      ]
    },
    {
      "cell_type": "markdown",
      "metadata": {
        "id": "EhPjIRNd8gUO"
      },
      "source": [
        "***New Customer Revenue***"
      ]
    },
    {
      "cell_type": "code",
      "metadata": {
        "id": "Tm5bBjcAOfVb"
      },
      "source": [
        "#finding the count of customer emails\n",
        "my_array = np.array(np.unique(data['customer_email'], return_counts=True)).T"
      ],
      "execution_count": null,
      "outputs": []
    },
    {
      "cell_type": "code",
      "metadata": {
        "id": "8I3u79ePPDc8"
      },
      "source": [
        "#converting the unique mails and counts to a data frame\n",
        "df = pd.DataFrame(my_array, columns = ['Column_A','Column_B'])"
      ],
      "execution_count": null,
      "outputs": []
    },
    {
      "cell_type": "code",
      "metadata": {
        "colab": {
          "base_uri": "https://localhost:8080/",
          "height": 173
        },
        "id": "TmJiiz-OQ4Va",
        "outputId": "fa90f856-a685-466f-e250-868c22ad0f68"
      },
      "source": [
        "df.describe()"
      ],
      "execution_count": null,
      "outputs": [
        {
          "output_type": "execute_result",
          "data": {
            "text/html": [
              "<div>\n",
              "<style scoped>\n",
              "    .dataframe tbody tr th:only-of-type {\n",
              "        vertical-align: middle;\n",
              "    }\n",
              "\n",
              "    .dataframe tbody tr th {\n",
              "        vertical-align: top;\n",
              "    }\n",
              "\n",
              "    .dataframe thead th {\n",
              "        text-align: right;\n",
              "    }\n",
              "</style>\n",
              "<table border=\"1\" class=\"dataframe\">\n",
              "  <thead>\n",
              "    <tr style=\"text-align: right;\">\n",
              "      <th></th>\n",
              "      <th>Column_A</th>\n",
              "      <th>Column_B</th>\n",
              "    </tr>\n",
              "  </thead>\n",
              "  <tbody>\n",
              "    <tr>\n",
              "      <th>count</th>\n",
              "      <td>604618</td>\n",
              "      <td>604618</td>\n",
              "    </tr>\n",
              "    <tr>\n",
              "      <th>unique</th>\n",
              "      <td>604618</td>\n",
              "      <td>3</td>\n",
              "    </tr>\n",
              "    <tr>\n",
              "      <th>top</th>\n",
              "      <td>hwzcqbgejq@gmail.com</td>\n",
              "      <td>1</td>\n",
              "    </tr>\n",
              "    <tr>\n",
              "      <th>freq</th>\n",
              "      <td>1</td>\n",
              "      <td>529471</td>\n",
              "    </tr>\n",
              "  </tbody>\n",
              "</table>\n",
              "</div>"
            ],
            "text/plain": [
              "                    Column_A  Column_B\n",
              "count                 604618    604618\n",
              "unique                604618         3\n",
              "top     hwzcqbgejq@gmail.com         1\n",
              "freq                       1    529471"
            ]
          },
          "metadata": {},
          "execution_count": 79
        }
      ]
    },
    {
      "cell_type": "code",
      "metadata": {
        "id": "o_RX4jORPDfh"
      },
      "source": [
        "#dropping email with count more than 1\n",
        "df = df.loc[df[\"Column_B\"] == 1]"
      ],
      "execution_count": null,
      "outputs": []
    },
    {
      "cell_type": "code",
      "metadata": {
        "colab": {
          "base_uri": "https://localhost:8080/",
          "height": 297
        },
        "id": "4Kb7bw3rPDiy",
        "outputId": "ef7a8492-fa3b-4d8b-fbf9-9c7c5a2454b1"
      },
      "source": [
        "#creating a new dataframe from existing dataframe with unique mails\n",
        "newdf = data[data['customer_email'].isin(df['Column_A'])]\n",
        "newdf.describe()"
      ],
      "execution_count": null,
      "outputs": [
        {
          "output_type": "execute_result",
          "data": {
            "text/html": [
              "<div>\n",
              "<style scoped>\n",
              "    .dataframe tbody tr th:only-of-type {\n",
              "        vertical-align: middle;\n",
              "    }\n",
              "\n",
              "    .dataframe tbody tr th {\n",
              "        vertical-align: top;\n",
              "    }\n",
              "\n",
              "    .dataframe thead th {\n",
              "        text-align: right;\n",
              "    }\n",
              "</style>\n",
              "<table border=\"1\" class=\"dataframe\">\n",
              "  <thead>\n",
              "    <tr style=\"text-align: right;\">\n",
              "      <th></th>\n",
              "      <th>Unnamed: 0</th>\n",
              "      <th>net_revenue</th>\n",
              "      <th>year</th>\n",
              "    </tr>\n",
              "  </thead>\n",
              "  <tbody>\n",
              "    <tr>\n",
              "      <th>count</th>\n",
              "      <td>529471.000000</td>\n",
              "      <td>529471.000000</td>\n",
              "      <td>529471.000000</td>\n",
              "    </tr>\n",
              "    <tr>\n",
              "      <th>mean</th>\n",
              "      <td>363682.823040</td>\n",
              "      <td>125.691451</td>\n",
              "      <td>2016.108255</td>\n",
              "    </tr>\n",
              "    <tr>\n",
              "      <th>std</th>\n",
              "      <td>202893.586372</td>\n",
              "      <td>71.839520</td>\n",
              "      <td>0.861541</td>\n",
              "    </tr>\n",
              "    <tr>\n",
              "      <th>min</th>\n",
              "      <td>0.000000</td>\n",
              "      <td>1.000000</td>\n",
              "      <td>2015.000000</td>\n",
              "    </tr>\n",
              "    <tr>\n",
              "      <th>25%</th>\n",
              "      <td>187621.500000</td>\n",
              "      <td>63.570000</td>\n",
              "      <td>2015.000000</td>\n",
              "    </tr>\n",
              "    <tr>\n",
              "      <th>50%</th>\n",
              "      <td>378693.000000</td>\n",
              "      <td>125.810000</td>\n",
              "      <td>2016.000000</td>\n",
              "    </tr>\n",
              "    <tr>\n",
              "      <th>75%</th>\n",
              "      <td>543300.500000</td>\n",
              "      <td>187.910000</td>\n",
              "      <td>2017.000000</td>\n",
              "    </tr>\n",
              "    <tr>\n",
              "      <th>max</th>\n",
              "      <td>685926.000000</td>\n",
              "      <td>250.000000</td>\n",
              "      <td>2017.000000</td>\n",
              "    </tr>\n",
              "  </tbody>\n",
              "</table>\n",
              "</div>"
            ],
            "text/plain": [
              "          Unnamed: 0    net_revenue           year\n",
              "count  529471.000000  529471.000000  529471.000000\n",
              "mean   363682.823040     125.691451    2016.108255\n",
              "std    202893.586372      71.839520       0.861541\n",
              "min         0.000000       1.000000    2015.000000\n",
              "25%    187621.500000      63.570000    2015.000000\n",
              "50%    378693.000000     125.810000    2016.000000\n",
              "75%    543300.500000     187.910000    2017.000000\n",
              "max    685926.000000     250.000000    2017.000000"
            ]
          },
          "metadata": {},
          "execution_count": 81
        }
      ]
    },
    {
      "cell_type": "code",
      "metadata": {
        "colab": {
          "base_uri": "https://localhost:8080/",
          "height": 173
        },
        "id": "E6uOcmk2PDla",
        "outputId": "f79eac46-3248-4783-f77f-5fed7c56a930"
      },
      "source": [
        "newdf.groupby(['year'])[['net_revenue']].sum()"
      ],
      "execution_count": null,
      "outputs": [
        {
          "output_type": "execute_result",
          "data": {
            "text/html": [
              "<div>\n",
              "<style scoped>\n",
              "    .dataframe tbody tr th:only-of-type {\n",
              "        vertical-align: middle;\n",
              "    }\n",
              "\n",
              "    .dataframe tbody tr th {\n",
              "        vertical-align: top;\n",
              "    }\n",
              "\n",
              "    .dataframe thead th {\n",
              "        text-align: right;\n",
              "    }\n",
              "</style>\n",
              "<table border=\"1\" class=\"dataframe\">\n",
              "  <thead>\n",
              "    <tr style=\"text-align: right;\">\n",
              "      <th></th>\n",
              "      <th>net_revenue</th>\n",
              "    </tr>\n",
              "    <tr>\n",
              "      <th>year</th>\n",
              "      <th></th>\n",
              "    </tr>\n",
              "  </thead>\n",
              "  <tbody>\n",
              "    <tr>\n",
              "      <th>2015</th>\n",
              "      <td>2.147600e+07</td>\n",
              "    </tr>\n",
              "    <tr>\n",
              "      <th>2016</th>\n",
              "      <td>1.639737e+07</td>\n",
              "    </tr>\n",
              "    <tr>\n",
              "      <th>2017</th>\n",
              "      <td>2.867661e+07</td>\n",
              "    </tr>\n",
              "  </tbody>\n",
              "</table>\n",
              "</div>"
            ],
            "text/plain": [
              "       net_revenue\n",
              "year              \n",
              "2015  2.147600e+07\n",
              "2016  1.639737e+07\n",
              "2017  2.867661e+07"
            ]
          },
          "metadata": {},
          "execution_count": 41
        }
      ]
    },
    {
      "cell_type": "markdown",
      "metadata": {
        "id": "fri5aXQhSDn6"
      },
      "source": [
        "New Customer Revenue is 2.8677661e+07"
      ]
    },
    {
      "cell_type": "markdown",
      "metadata": {
        "id": "p-ji7Z3bMmlf"
      },
      "source": [
        "***Existing Customer Growth.***"
      ]
    },
    {
      "cell_type": "code",
      "metadata": {
        "id": "c5bmKwnqQ0S-"
      },
      "source": [
        "#defining df with customer_email and their frequency counts\n",
        "df = pd.DataFrame(my_array, columns = ['Column_A','Column_B'])"
      ],
      "execution_count": null,
      "outputs": []
    },
    {
      "cell_type": "code",
      "metadata": {
        "colab": {
          "base_uri": "https://localhost:8080/",
          "height": 173
        },
        "id": "I3La1ChRQ0WQ",
        "outputId": "c14dbd73-9845-4592-acae-b3874c2e9932"
      },
      "source": [
        "df.describe()"
      ],
      "execution_count": null,
      "outputs": [
        {
          "output_type": "execute_result",
          "data": {
            "text/html": [
              "<div>\n",
              "<style scoped>\n",
              "    .dataframe tbody tr th:only-of-type {\n",
              "        vertical-align: middle;\n",
              "    }\n",
              "\n",
              "    .dataframe tbody tr th {\n",
              "        vertical-align: top;\n",
              "    }\n",
              "\n",
              "    .dataframe thead th {\n",
              "        text-align: right;\n",
              "    }\n",
              "</style>\n",
              "<table border=\"1\" class=\"dataframe\">\n",
              "  <thead>\n",
              "    <tr style=\"text-align: right;\">\n",
              "      <th></th>\n",
              "      <th>Column_A</th>\n",
              "      <th>Column_B</th>\n",
              "    </tr>\n",
              "  </thead>\n",
              "  <tbody>\n",
              "    <tr>\n",
              "      <th>count</th>\n",
              "      <td>604618</td>\n",
              "      <td>604618</td>\n",
              "    </tr>\n",
              "    <tr>\n",
              "      <th>unique</th>\n",
              "      <td>604618</td>\n",
              "      <td>3</td>\n",
              "    </tr>\n",
              "    <tr>\n",
              "      <th>top</th>\n",
              "      <td>hwzcqbgejq@gmail.com</td>\n",
              "      <td>1</td>\n",
              "    </tr>\n",
              "    <tr>\n",
              "      <th>freq</th>\n",
              "      <td>1</td>\n",
              "      <td>529471</td>\n",
              "    </tr>\n",
              "  </tbody>\n",
              "</table>\n",
              "</div>"
            ],
            "text/plain": [
              "                    Column_A  Column_B\n",
              "count                 604618    604618\n",
              "unique                604618         3\n",
              "top     hwzcqbgejq@gmail.com         1\n",
              "freq                       1    529471"
            ]
          },
          "metadata": {},
          "execution_count": 49
        }
      ]
    },
    {
      "cell_type": "code",
      "metadata": {
        "id": "dXY0FoD1Q0Zb"
      },
      "source": [
        "#dropping email with count equal to 1\n",
        "#this step makes sure that only existing customers are included in the calculation of reveneue\n",
        "df = df.loc[df[\"Column_B\"] != 1]"
      ],
      "execution_count": null,
      "outputs": []
    },
    {
      "cell_type": "code",
      "metadata": {
        "colab": {
          "base_uri": "https://localhost:8080/"
        },
        "id": "R_WJrsd7Q0cO",
        "outputId": "8d5af273-37d6-42d6-c1b1-3a969b0c67c7"
      },
      "source": [
        "df['Column_B'].value_counts()"
      ],
      "execution_count": null,
      "outputs": [
        {
          "output_type": "execute_result",
          "data": {
            "text/plain": [
              "2    68985\n",
              "3     6162\n",
              "Name: Column_B, dtype: int64"
            ]
          },
          "metadata": {},
          "execution_count": 51
        }
      ]
    },
    {
      "cell_type": "code",
      "metadata": {
        "id": "RRNqlnFcQ0h8"
      },
      "source": [
        "#creating another dataframe with datas from year 2017\n",
        "dfcurrent = data[data['year']==2017]"
      ],
      "execution_count": null,
      "outputs": []
    },
    {
      "cell_type": "code",
      "metadata": {
        "id": "h-Lqb_SLRbQB"
      },
      "source": [
        "#dropping the new customers from year 2017\n",
        "dfcurrent = dfcurrent[dfcurrent['customer_email'].isin(df['Column_A'])]"
      ],
      "execution_count": null,
      "outputs": []
    },
    {
      "cell_type": "code",
      "metadata": {
        "colab": {
          "base_uri": "https://localhost:8080/",
          "height": 297
        },
        "id": "S4LN9JGHRbS-",
        "outputId": "3f1f52af-c16c-4ab5-e7a8-0abb09e8d882"
      },
      "source": [
        "dfcurrent.describe()"
      ],
      "execution_count": null,
      "outputs": [
        {
          "output_type": "execute_result",
          "data": {
            "text/html": [
              "<div>\n",
              "<style scoped>\n",
              "    .dataframe tbody tr th:only-of-type {\n",
              "        vertical-align: middle;\n",
              "    }\n",
              "\n",
              "    .dataframe tbody tr th {\n",
              "        vertical-align: top;\n",
              "    }\n",
              "\n",
              "    .dataframe thead th {\n",
              "        text-align: right;\n",
              "    }\n",
              "</style>\n",
              "<table border=\"1\" class=\"dataframe\">\n",
              "  <thead>\n",
              "    <tr style=\"text-align: right;\">\n",
              "      <th></th>\n",
              "      <th>Unnamed: 0</th>\n",
              "      <th>net_revenue</th>\n",
              "      <th>year</th>\n",
              "    </tr>\n",
              "  </thead>\n",
              "  <tbody>\n",
              "    <tr>\n",
              "      <th>count</th>\n",
              "      <td>21725.000000</td>\n",
              "      <td>21725.000000</td>\n",
              "      <td>21725.0</td>\n",
              "    </tr>\n",
              "    <tr>\n",
              "      <th>mean</th>\n",
              "      <td>538061.889298</td>\n",
              "      <td>126.162826</td>\n",
              "      <td>2017.0</td>\n",
              "    </tr>\n",
              "    <tr>\n",
              "      <th>std</th>\n",
              "      <td>59262.590555</td>\n",
              "      <td>72.385793</td>\n",
              "      <td>0.0</td>\n",
              "    </tr>\n",
              "    <tr>\n",
              "      <th>min</th>\n",
              "      <td>435947.000000</td>\n",
              "      <td>1.010000</td>\n",
              "      <td>2017.0</td>\n",
              "    </tr>\n",
              "    <tr>\n",
              "      <th>25%</th>\n",
              "      <td>486668.000000</td>\n",
              "      <td>63.100000</td>\n",
              "      <td>2017.0</td>\n",
              "    </tr>\n",
              "    <tr>\n",
              "      <th>50%</th>\n",
              "      <td>537422.000000</td>\n",
              "      <td>126.470000</td>\n",
              "      <td>2017.0</td>\n",
              "    </tr>\n",
              "    <tr>\n",
              "      <th>75%</th>\n",
              "      <td>589682.000000</td>\n",
              "      <td>189.010000</td>\n",
              "      <td>2017.0</td>\n",
              "    </tr>\n",
              "    <tr>\n",
              "      <th>max</th>\n",
              "      <td>640583.000000</td>\n",
              "      <td>249.980000</td>\n",
              "      <td>2017.0</td>\n",
              "    </tr>\n",
              "  </tbody>\n",
              "</table>\n",
              "</div>"
            ],
            "text/plain": [
              "          Unnamed: 0   net_revenue     year\n",
              "count   21725.000000  21725.000000  21725.0\n",
              "mean   538061.889298    126.162826   2017.0\n",
              "std     59262.590555     72.385793      0.0\n",
              "min    435947.000000      1.010000   2017.0\n",
              "25%    486668.000000     63.100000   2017.0\n",
              "50%    537422.000000    126.470000   2017.0\n",
              "75%    589682.000000    189.010000   2017.0\n",
              "max    640583.000000    249.980000   2017.0"
            ]
          },
          "metadata": {},
          "execution_count": 54
        }
      ]
    },
    {
      "cell_type": "code",
      "metadata": {
        "id": "7kozZpm6RbV2"
      },
      "source": [
        "#finally collecting the exisiting customers from previous year\n",
        "current = data[data['customer_email'].isin(dfcurrent['customer_email'])]"
      ],
      "execution_count": null,
      "outputs": []
    },
    {
      "cell_type": "code",
      "metadata": {
        "colab": {
          "base_uri": "https://localhost:8080/",
          "height": 297
        },
        "id": "uUYiVK2iTSqQ",
        "outputId": "57be2b70-9a44-4a5a-ade3-3995e71ab937"
      },
      "source": [
        "current.describe()"
      ],
      "execution_count": null,
      "outputs": [
        {
          "output_type": "execute_result",
          "data": {
            "text/html": [
              "<div>\n",
              "<style scoped>\n",
              "    .dataframe tbody tr th:only-of-type {\n",
              "        vertical-align: middle;\n",
              "    }\n",
              "\n",
              "    .dataframe tbody tr th {\n",
              "        vertical-align: top;\n",
              "    }\n",
              "\n",
              "    .dataframe thead th {\n",
              "        text-align: right;\n",
              "    }\n",
              "</style>\n",
              "<table border=\"1\" class=\"dataframe\">\n",
              "  <thead>\n",
              "    <tr style=\"text-align: right;\">\n",
              "      <th></th>\n",
              "      <th>Unnamed: 0</th>\n",
              "      <th>net_revenue</th>\n",
              "      <th>year</th>\n",
              "    </tr>\n",
              "  </thead>\n",
              "  <tbody>\n",
              "    <tr>\n",
              "      <th>count</th>\n",
              "      <td>49612.000000</td>\n",
              "      <td>49612.000000</td>\n",
              "      <td>49612.000000</td>\n",
              "    </tr>\n",
              "    <tr>\n",
              "      <th>mean</th>\n",
              "      <td>390759.078187</td>\n",
              "      <td>125.575056</td>\n",
              "      <td>2016.298254</td>\n",
              "    </tr>\n",
              "    <tr>\n",
              "      <th>std</th>\n",
              "      <td>161252.176579</td>\n",
              "      <td>72.047697</td>\n",
              "      <td>0.698996</td>\n",
              "    </tr>\n",
              "    <tr>\n",
              "      <th>min</th>\n",
              "      <td>16.000000</td>\n",
              "      <td>1.010000</td>\n",
              "      <td>2015.000000</td>\n",
              "    </tr>\n",
              "    <tr>\n",
              "      <th>25%</th>\n",
              "      <td>283963.750000</td>\n",
              "      <td>62.920000</td>\n",
              "      <td>2016.000000</td>\n",
              "    </tr>\n",
              "    <tr>\n",
              "      <th>50%</th>\n",
              "      <td>406202.500000</td>\n",
              "      <td>125.730000</td>\n",
              "      <td>2016.000000</td>\n",
              "    </tr>\n",
              "    <tr>\n",
              "      <th>75%</th>\n",
              "      <td>523010.750000</td>\n",
              "      <td>187.622500</td>\n",
              "      <td>2017.000000</td>\n",
              "    </tr>\n",
              "    <tr>\n",
              "      <th>max</th>\n",
              "      <td>640583.000000</td>\n",
              "      <td>249.990000</td>\n",
              "      <td>2017.000000</td>\n",
              "    </tr>\n",
              "  </tbody>\n",
              "</table>\n",
              "</div>"
            ],
            "text/plain": [
              "          Unnamed: 0   net_revenue          year\n",
              "count   49612.000000  49612.000000  49612.000000\n",
              "mean   390759.078187    125.575056   2016.298254\n",
              "std    161252.176579     72.047697      0.698996\n",
              "min        16.000000      1.010000   2015.000000\n",
              "25%    283963.750000     62.920000   2016.000000\n",
              "50%    406202.500000    125.730000   2016.000000\n",
              "75%    523010.750000    187.622500   2017.000000\n",
              "max    640583.000000    249.990000   2017.000000"
            ]
          },
          "metadata": {},
          "execution_count": 56
        }
      ]
    },
    {
      "cell_type": "code",
      "metadata": {
        "colab": {
          "base_uri": "https://localhost:8080/",
          "height": 173
        },
        "id": "VZXYjveuTStR",
        "outputId": "65b17b93-7492-4ad5-f742-964dc3dc0068"
      },
      "source": [
        "current.groupby(['year'])[['net_revenue']].sum()"
      ],
      "execution_count": null,
      "outputs": [
        {
          "output_type": "execute_result",
          "data": {
            "text/html": [
              "<div>\n",
              "<style scoped>\n",
              "    .dataframe tbody tr th:only-of-type {\n",
              "        vertical-align: middle;\n",
              "    }\n",
              "\n",
              "    .dataframe tbody tr th {\n",
              "        vertical-align: top;\n",
              "    }\n",
              "\n",
              "    .dataframe thead th {\n",
              "        text-align: right;\n",
              "    }\n",
              "</style>\n",
              "<table border=\"1\" class=\"dataframe\">\n",
              "  <thead>\n",
              "    <tr style=\"text-align: right;\">\n",
              "      <th></th>\n",
              "      <th>net_revenue</th>\n",
              "    </tr>\n",
              "    <tr>\n",
              "      <th>year</th>\n",
              "      <th></th>\n",
              "    </tr>\n",
              "  </thead>\n",
              "  <tbody>\n",
              "    <tr>\n",
              "      <th>2015</th>\n",
              "      <td>868493.65</td>\n",
              "    </tr>\n",
              "    <tr>\n",
              "      <th>2016</th>\n",
              "      <td>2620648.65</td>\n",
              "    </tr>\n",
              "    <tr>\n",
              "      <th>2017</th>\n",
              "      <td>2740887.39</td>\n",
              "    </tr>\n",
              "  </tbody>\n",
              "</table>\n",
              "</div>"
            ],
            "text/plain": [
              "      net_revenue\n",
              "year             \n",
              "2015    868493.65\n",
              "2016   2620648.65\n",
              "2017   2740887.39"
            ]
          },
          "metadata": {},
          "execution_count": 57
        }
      ]
    },
    {
      "cell_type": "markdown",
      "metadata": {
        "id": "5y1B2RwrTzJs"
      },
      "source": [
        "The existing customer revenue growth = 2740887.39-2620648.65 = 120238.74\n"
      ]
    },
    {
      "cell_type": "markdown",
      "metadata": {
        "id": "9I3G-P4EUbwa"
      },
      "source": [
        "***Revenue lost from attrition***"
      ]
    },
    {
      "cell_type": "code",
      "metadata": {
        "id": "te8nVGQjTSwb"
      },
      "source": [
        "#to find the revenue lost from attrition we have to see how many customers we lost in 2017\n",
        "#converting the unique mails and counts to a data frame\n",
        "df = pd.DataFrame(my_array, columns = ['Column_A','Column_B'])"
      ],
      "execution_count": null,
      "outputs": []
    },
    {
      "cell_type": "code",
      "metadata": {
        "id": "5FU9vk99am_m"
      },
      "source": [
        "#dropping email with count more than 1\n",
        "df = df.loc[df[\"Column_B\"] == 1]"
      ],
      "execution_count": null,
      "outputs": []
    },
    {
      "cell_type": "code",
      "metadata": {
        "id": "xXkdv2y7anCU"
      },
      "source": [
        "#creating another dataframe with datas from year 2016\n",
        "dfprev = data[data['year']==2016]"
      ],
      "execution_count": null,
      "outputs": []
    },
    {
      "cell_type": "code",
      "metadata": {
        "id": "PsGJvfkwfrTQ"
      },
      "source": [
        "#finally collecting the unique customers in year 2016\n",
        "prev = dfprev[dfprev['customer_email'].isin(df['Column_A'])]"
      ],
      "execution_count": null,
      "outputs": []
    },
    {
      "cell_type": "code",
      "metadata": {
        "colab": {
          "base_uri": "https://localhost:8080/"
        },
        "id": "J1VMTlqhfrWY",
        "outputId": "93681524-0d91-4bac-a8a3-4d682e1bcc41"
      },
      "source": [
        "prev['net_revenue'].sum()"
      ],
      "execution_count": null,
      "outputs": [
        {
          "output_type": "execute_result",
          "data": {
            "text/plain": [
              "16397370.16"
            ]
          },
          "metadata": {},
          "execution_count": 66
        }
      ]
    },
    {
      "cell_type": "code",
      "metadata": {
        "id": "8EgDa5MefrZO"
      },
      "source": [
        "#creating another dataframe with datas from year 2015\n",
        "dfold = data[data['year']==2015]"
      ],
      "execution_count": null,
      "outputs": []
    },
    {
      "cell_type": "code",
      "metadata": {
        "id": "n1J3wUR2anOo"
      },
      "source": [
        "#finally collecting the unique customers in year 2015\n",
        "old = dfold[dfold['customer_email'].isin(df['Column_A'])]"
      ],
      "execution_count": null,
      "outputs": []
    },
    {
      "cell_type": "code",
      "metadata": {
        "colab": {
          "base_uri": "https://localhost:8080/"
        },
        "id": "k_-spS_QTSzN",
        "outputId": "816f6550-01c6-428c-8bfd-ac9527328b18"
      },
      "source": [
        "old['net_revenue'].sum()"
      ],
      "execution_count": null,
      "outputs": [
        {
          "output_type": "execute_result",
          "data": {
            "text/plain": [
              "21476000.699999996"
            ]
          },
          "metadata": {},
          "execution_count": 70
        }
      ]
    },
    {
      "cell_type": "markdown",
      "metadata": {
        "id": "QselOSqZgq03"
      },
      "source": [
        "So the total revenue lost from attrition will be the sum of revenue from  2015 and revenue from 2016, which is equal to 16397370.16+21476000 = 37,873,370"
      ]
    },
    {
      "cell_type": "markdown",
      "metadata": {
        "id": "9sBfxOFChMV9"
      },
      "source": [
        "***Existing Customer Revenue Current Year***"
      ]
    },
    {
      "cell_type": "markdown",
      "metadata": {
        "id": "61HnzgdWhaCs"
      },
      "source": [
        "While calculating the exisitng customer revenue growth, I have calculated the exisitng customer revenue current year which is 2740887.39"
      ]
    },
    {
      "cell_type": "markdown",
      "metadata": {
        "id": "3g0BzOBfh7eG"
      },
      "source": [
        "***Existing Customer Revenue Prior Year***"
      ]
    },
    {
      "cell_type": "markdown",
      "metadata": {
        "id": "S7R_0Z_pjByy"
      },
      "source": [
        "While calculating the exisitng customer revenue growth, I have calculated the exisitng customer revenue in year 2016 which is 2620648.65 and the customer revenue in year 2015 which is 868493.65"
      ]
    },
    {
      "cell_type": "markdown",
      "metadata": {
        "id": "93n0BKMhjW2O"
      },
      "source": [
        "***Total Customers Current Year***"
      ]
    },
    {
      "cell_type": "code",
      "metadata": {
        "id": "mzy1zQYQhweq"
      },
      "source": [
        "#dataframe with datas from year 2017\n",
        "dfcurrent = data[data['year']==2017]"
      ],
      "execution_count": null,
      "outputs": []
    },
    {
      "cell_type": "code",
      "metadata": {
        "colab": {
          "base_uri": "https://localhost:8080/",
          "height": 297
        },
        "id": "GyFtnAJbhwiD",
        "outputId": "33b9f593-4c8c-43d9-e219-06f8ef669b8e"
      },
      "source": [
        "dfcurrent.describe()"
      ],
      "execution_count": null,
      "outputs": [
        {
          "output_type": "execute_result",
          "data": {
            "text/html": [
              "<div>\n",
              "<style scoped>\n",
              "    .dataframe tbody tr th:only-of-type {\n",
              "        vertical-align: middle;\n",
              "    }\n",
              "\n",
              "    .dataframe tbody tr th {\n",
              "        vertical-align: top;\n",
              "    }\n",
              "\n",
              "    .dataframe thead th {\n",
              "        text-align: right;\n",
              "    }\n",
              "</style>\n",
              "<table border=\"1\" class=\"dataframe\">\n",
              "  <thead>\n",
              "    <tr style=\"text-align: right;\">\n",
              "      <th></th>\n",
              "      <th>Unnamed: 0</th>\n",
              "      <th>net_revenue</th>\n",
              "      <th>year</th>\n",
              "    </tr>\n",
              "  </thead>\n",
              "  <tbody>\n",
              "    <tr>\n",
              "      <th>count</th>\n",
              "      <td>249987.000000</td>\n",
              "      <td>249987.000000</td>\n",
              "      <td>249987.0</td>\n",
              "    </tr>\n",
              "    <tr>\n",
              "      <th>mean</th>\n",
              "      <td>560933.000000</td>\n",
              "      <td>125.676515</td>\n",
              "      <td>2017.0</td>\n",
              "    </tr>\n",
              "    <tr>\n",
              "      <th>std</th>\n",
              "      <td>72165.175209</td>\n",
              "      <td>71.924943</td>\n",
              "      <td>0.0</td>\n",
              "    </tr>\n",
              "    <tr>\n",
              "      <th>min</th>\n",
              "      <td>435940.000000</td>\n",
              "      <td>1.000000</td>\n",
              "      <td>2017.0</td>\n",
              "    </tr>\n",
              "    <tr>\n",
              "      <th>25%</th>\n",
              "      <td>498436.500000</td>\n",
              "      <td>63.390000</td>\n",
              "      <td>2017.0</td>\n",
              "    </tr>\n",
              "    <tr>\n",
              "      <th>50%</th>\n",
              "      <td>560933.000000</td>\n",
              "      <td>125.810000</td>\n",
              "      <td>2017.0</td>\n",
              "    </tr>\n",
              "    <tr>\n",
              "      <th>75%</th>\n",
              "      <td>623429.500000</td>\n",
              "      <td>187.970000</td>\n",
              "      <td>2017.0</td>\n",
              "    </tr>\n",
              "    <tr>\n",
              "      <th>max</th>\n",
              "      <td>685926.000000</td>\n",
              "      <td>250.000000</td>\n",
              "      <td>2017.0</td>\n",
              "    </tr>\n",
              "  </tbody>\n",
              "</table>\n",
              "</div>"
            ],
            "text/plain": [
              "          Unnamed: 0    net_revenue      year\n",
              "count  249987.000000  249987.000000  249987.0\n",
              "mean   560933.000000     125.676515    2017.0\n",
              "std     72165.175209      71.924943       0.0\n",
              "min    435940.000000       1.000000    2017.0\n",
              "25%    498436.500000      63.390000    2017.0\n",
              "50%    560933.000000     125.810000    2017.0\n",
              "75%    623429.500000     187.970000    2017.0\n",
              "max    685926.000000     250.000000    2017.0"
            ]
          },
          "metadata": {},
          "execution_count": 72
        }
      ]
    },
    {
      "cell_type": "markdown",
      "metadata": {
        "id": "1XJN58q3jqp8"
      },
      "source": [
        "From the above data we can see that the count is 249987 which is the number of customers for current year"
      ]
    },
    {
      "cell_type": "markdown",
      "metadata": {
        "id": "OX08miK5j0Qo"
      },
      "source": [
        "***Total Customers Previous Year***"
      ]
    },
    {
      "cell_type": "code",
      "metadata": {
        "id": "UNKnNLtohwpy"
      },
      "source": [
        "#dataframe with datas from year 2016\n",
        "dfprev = data[data['year']==2016]"
      ],
      "execution_count": null,
      "outputs": []
    },
    {
      "cell_type": "code",
      "metadata": {
        "colab": {
          "base_uri": "https://localhost:8080/",
          "height": 297
        },
        "id": "Y5T8Q_A9goRV",
        "outputId": "54ef7712-eb80-47aa-8959-43e1ee600e17"
      },
      "source": [
        "dfprev.describe()"
      ],
      "execution_count": null,
      "outputs": [
        {
          "output_type": "execute_result",
          "data": {
            "text/html": [
              "<div>\n",
              "<style scoped>\n",
              "    .dataframe tbody tr th:only-of-type {\n",
              "        vertical-align: middle;\n",
              "    }\n",
              "\n",
              "    .dataframe tbody tr th {\n",
              "        vertical-align: top;\n",
              "    }\n",
              "\n",
              "    .dataframe thead th {\n",
              "        text-align: right;\n",
              "    }\n",
              "</style>\n",
              "<table border=\"1\" class=\"dataframe\">\n",
              "  <thead>\n",
              "    <tr style=\"text-align: right;\">\n",
              "      <th></th>\n",
              "      <th>Unnamed: 0</th>\n",
              "      <th>net_revenue</th>\n",
              "      <th>year</th>\n",
              "    </tr>\n",
              "  </thead>\n",
              "  <tbody>\n",
              "    <tr>\n",
              "      <th>count</th>\n",
              "      <td>204646.000000</td>\n",
              "      <td>204646.000000</td>\n",
              "      <td>204646.0</td>\n",
              "    </tr>\n",
              "    <tr>\n",
              "      <th>mean</th>\n",
              "      <td>333616.500000</td>\n",
              "      <td>125.733919</td>\n",
              "      <td>2016.0</td>\n",
              "    </tr>\n",
              "    <tr>\n",
              "      <th>std</th>\n",
              "      <td>59076.355932</td>\n",
              "      <td>71.838149</td>\n",
              "      <td>0.0</td>\n",
              "    </tr>\n",
              "    <tr>\n",
              "      <th>min</th>\n",
              "      <td>231294.000000</td>\n",
              "      <td>1.000000</td>\n",
              "      <td>2016.0</td>\n",
              "    </tr>\n",
              "    <tr>\n",
              "      <th>25%</th>\n",
              "      <td>282455.250000</td>\n",
              "      <td>63.722500</td>\n",
              "      <td>2016.0</td>\n",
              "    </tr>\n",
              "    <tr>\n",
              "      <th>50%</th>\n",
              "      <td>333616.500000</td>\n",
              "      <td>125.760000</td>\n",
              "      <td>2016.0</td>\n",
              "    </tr>\n",
              "    <tr>\n",
              "      <th>75%</th>\n",
              "      <td>384777.750000</td>\n",
              "      <td>187.890000</td>\n",
              "      <td>2016.0</td>\n",
              "    </tr>\n",
              "    <tr>\n",
              "      <th>max</th>\n",
              "      <td>435939.000000</td>\n",
              "      <td>250.000000</td>\n",
              "      <td>2016.0</td>\n",
              "    </tr>\n",
              "  </tbody>\n",
              "</table>\n",
              "</div>"
            ],
            "text/plain": [
              "          Unnamed: 0    net_revenue      year\n",
              "count  204646.000000  204646.000000  204646.0\n",
              "mean   333616.500000     125.733919    2016.0\n",
              "std     59076.355932      71.838149       0.0\n",
              "min    231294.000000       1.000000    2016.0\n",
              "25%    282455.250000      63.722500    2016.0\n",
              "50%    333616.500000     125.760000    2016.0\n",
              "75%    384777.750000     187.890000    2016.0\n",
              "max    435939.000000     250.000000    2016.0"
            ]
          },
          "metadata": {},
          "execution_count": 74
        }
      ]
    },
    {
      "cell_type": "markdown",
      "metadata": {
        "id": "bQgHxJ30kIKG"
      },
      "source": [
        "From the above data we can see that the count is 204646 which is the number of customers for year 2016"
      ]
    },
    {
      "cell_type": "code",
      "metadata": {
        "id": "IgAi7nQMgoVB"
      },
      "source": [
        "#dataframe with datas from year 2015\n",
        "dfold = data[data['year']==2015]"
      ],
      "execution_count": null,
      "outputs": []
    },
    {
      "cell_type": "code",
      "metadata": {
        "colab": {
          "base_uri": "https://localhost:8080/",
          "height": 297
        },
        "id": "dcSrMkeBgoWx",
        "outputId": "a241357d-a765-4e3d-e569-26a990952b0d"
      },
      "source": [
        "dfold.describe()"
      ],
      "execution_count": null,
      "outputs": [
        {
          "output_type": "execute_result",
          "data": {
            "text/html": [
              "<div>\n",
              "<style scoped>\n",
              "    .dataframe tbody tr th:only-of-type {\n",
              "        vertical-align: middle;\n",
              "    }\n",
              "\n",
              "    .dataframe tbody tr th {\n",
              "        vertical-align: top;\n",
              "    }\n",
              "\n",
              "    .dataframe thead th {\n",
              "        text-align: right;\n",
              "    }\n",
              "</style>\n",
              "<table border=\"1\" class=\"dataframe\">\n",
              "  <thead>\n",
              "    <tr style=\"text-align: right;\">\n",
              "      <th></th>\n",
              "      <th>Unnamed: 0</th>\n",
              "      <th>net_revenue</th>\n",
              "      <th>year</th>\n",
              "    </tr>\n",
              "  </thead>\n",
              "  <tbody>\n",
              "    <tr>\n",
              "      <th>count</th>\n",
              "      <td>231294.000000</td>\n",
              "      <td>231294.000000</td>\n",
              "      <td>231294.0</td>\n",
              "    </tr>\n",
              "    <tr>\n",
              "      <th>mean</th>\n",
              "      <td>115646.500000</td>\n",
              "      <td>125.540434</td>\n",
              "      <td>2015.0</td>\n",
              "    </tr>\n",
              "    <tr>\n",
              "      <th>std</th>\n",
              "      <td>66768.970918</td>\n",
              "      <td>71.793027</td>\n",
              "      <td>0.0</td>\n",
              "    </tr>\n",
              "    <tr>\n",
              "      <th>min</th>\n",
              "      <td>0.000000</td>\n",
              "      <td>1.000000</td>\n",
              "      <td>2015.0</td>\n",
              "    </tr>\n",
              "    <tr>\n",
              "      <th>25%</th>\n",
              "      <td>57823.250000</td>\n",
              "      <td>63.430000</td>\n",
              "      <td>2015.0</td>\n",
              "    </tr>\n",
              "    <tr>\n",
              "      <th>50%</th>\n",
              "      <td>115646.500000</td>\n",
              "      <td>125.655000</td>\n",
              "      <td>2015.0</td>\n",
              "    </tr>\n",
              "    <tr>\n",
              "      <th>75%</th>\n",
              "      <td>173469.750000</td>\n",
              "      <td>187.560000</td>\n",
              "      <td>2015.0</td>\n",
              "    </tr>\n",
              "    <tr>\n",
              "      <th>max</th>\n",
              "      <td>231293.000000</td>\n",
              "      <td>250.000000</td>\n",
              "      <td>2015.0</td>\n",
              "    </tr>\n",
              "  </tbody>\n",
              "</table>\n",
              "</div>"
            ],
            "text/plain": [
              "          Unnamed: 0    net_revenue      year\n",
              "count  231294.000000  231294.000000  231294.0\n",
              "mean   115646.500000     125.540434    2015.0\n",
              "std     66768.970918      71.793027       0.0\n",
              "min         0.000000       1.000000    2015.0\n",
              "25%     57823.250000      63.430000    2015.0\n",
              "50%    115646.500000     125.655000    2015.0\n",
              "75%    173469.750000     187.560000    2015.0\n",
              "max    231293.000000     250.000000    2015.0"
            ]
          },
          "metadata": {},
          "execution_count": 76
        }
      ]
    },
    {
      "cell_type": "markdown",
      "metadata": {
        "id": "Q8ifp9BTka5b"
      },
      "source": [
        "From the above data we can see that the count is 231294 which is the number of customers for year 2015"
      ]
    },
    {
      "cell_type": "markdown",
      "metadata": {
        "id": "FHhEUHgnkgY_"
      },
      "source": [
        "***New Customers***"
      ]
    },
    {
      "cell_type": "markdown",
      "metadata": {
        "id": "ISi7N2xdlfVi"
      },
      "source": [
        "In second part of this case study we calculated the new customer revenue using newdf dataframe. So I am using that df to find the new customers"
      ]
    },
    {
      "cell_type": "code",
      "metadata": {
        "id": "tT0nY1mDgoZe"
      },
      "source": [
        "#dataframe with newcustomers from year 2017\n",
        "newcustomers = newdf[newdf['year']==2017]"
      ],
      "execution_count": null,
      "outputs": []
    },
    {
      "cell_type": "code",
      "metadata": {
        "colab": {
          "base_uri": "https://localhost:8080/"
        },
        "id": "O0LxxeMykvvG",
        "outputId": "3604865a-c67a-42f6-a814-0c16ec89378c"
      },
      "source": [
        "newcustomers['customer_email']"
      ],
      "execution_count": null,
      "outputs": [
        {
          "output_type": "execute_result",
          "data": {
            "text/plain": [
              "435940     mwrossuukz@gmail.com\n",
              "435941    qvjfterwnk@gmail.com \n",
              "435942     vlyigtgfzs@gmail.com\n",
              "435943     yfirychuhk@gmail.com\n",
              "435944     fdkiioqtli@gmail.com\n",
              "                  ...          \n",
              "685922     qzqttwiftu@gmail.com\n",
              "685923     pjodiifjop@gmail.com\n",
              "685924     appaplmgko@gmail.com\n",
              "685925     wvkpmwsgck@gmail.com\n",
              "685926     aregboumbw@gmail.com\n",
              "Name: customer_email, Length: 228262, dtype: object"
            ]
          },
          "metadata": {},
          "execution_count": 83
        }
      ]
    },
    {
      "cell_type": "markdown",
      "metadata": {
        "id": "BM2X7DT6l8DV"
      },
      "source": [
        "The customer mails belong to the new customers, and the total new customers is 228262"
      ]
    },
    {
      "cell_type": "markdown",
      "metadata": {
        "id": "S_70fNL5mElV"
      },
      "source": [
        "***Lost Customers***"
      ]
    },
    {
      "cell_type": "code",
      "metadata": {
        "id": "8_bKBfZpkvyO"
      },
      "source": [
        "customers2016 = data[data['year']==2016]"
      ],
      "execution_count": null,
      "outputs": []
    },
    {
      "cell_type": "code",
      "metadata": {
        "colab": {
          "base_uri": "https://localhost:8080/",
          "height": 297
        },
        "id": "bhVWnlRFn3OY",
        "outputId": "0b5e7a97-a030-42df-b831-d17af6a7bf7e"
      },
      "source": [
        "customers2016.describe()"
      ],
      "execution_count": null,
      "outputs": [
        {
          "output_type": "execute_result",
          "data": {
            "text/html": [
              "<div>\n",
              "<style scoped>\n",
              "    .dataframe tbody tr th:only-of-type {\n",
              "        vertical-align: middle;\n",
              "    }\n",
              "\n",
              "    .dataframe tbody tr th {\n",
              "        vertical-align: top;\n",
              "    }\n",
              "\n",
              "    .dataframe thead th {\n",
              "        text-align: right;\n",
              "    }\n",
              "</style>\n",
              "<table border=\"1\" class=\"dataframe\">\n",
              "  <thead>\n",
              "    <tr style=\"text-align: right;\">\n",
              "      <th></th>\n",
              "      <th>Unnamed: 0</th>\n",
              "      <th>net_revenue</th>\n",
              "      <th>year</th>\n",
              "    </tr>\n",
              "  </thead>\n",
              "  <tbody>\n",
              "    <tr>\n",
              "      <th>count</th>\n",
              "      <td>204646.000000</td>\n",
              "      <td>204646.000000</td>\n",
              "      <td>204646.0</td>\n",
              "    </tr>\n",
              "    <tr>\n",
              "      <th>mean</th>\n",
              "      <td>333616.500000</td>\n",
              "      <td>125.733919</td>\n",
              "      <td>2016.0</td>\n",
              "    </tr>\n",
              "    <tr>\n",
              "      <th>std</th>\n",
              "      <td>59076.355932</td>\n",
              "      <td>71.838149</td>\n",
              "      <td>0.0</td>\n",
              "    </tr>\n",
              "    <tr>\n",
              "      <th>min</th>\n",
              "      <td>231294.000000</td>\n",
              "      <td>1.000000</td>\n",
              "      <td>2016.0</td>\n",
              "    </tr>\n",
              "    <tr>\n",
              "      <th>25%</th>\n",
              "      <td>282455.250000</td>\n",
              "      <td>63.722500</td>\n",
              "      <td>2016.0</td>\n",
              "    </tr>\n",
              "    <tr>\n",
              "      <th>50%</th>\n",
              "      <td>333616.500000</td>\n",
              "      <td>125.760000</td>\n",
              "      <td>2016.0</td>\n",
              "    </tr>\n",
              "    <tr>\n",
              "      <th>75%</th>\n",
              "      <td>384777.750000</td>\n",
              "      <td>187.890000</td>\n",
              "      <td>2016.0</td>\n",
              "    </tr>\n",
              "    <tr>\n",
              "      <th>max</th>\n",
              "      <td>435939.000000</td>\n",
              "      <td>250.000000</td>\n",
              "      <td>2016.0</td>\n",
              "    </tr>\n",
              "  </tbody>\n",
              "</table>\n",
              "</div>"
            ],
            "text/plain": [
              "          Unnamed: 0    net_revenue      year\n",
              "count  204646.000000  204646.000000  204646.0\n",
              "mean   333616.500000     125.733919    2016.0\n",
              "std     59076.355932      71.838149       0.0\n",
              "min    231294.000000       1.000000    2016.0\n",
              "25%    282455.250000      63.722500    2016.0\n",
              "50%    333616.500000     125.760000    2016.0\n",
              "75%    384777.750000     187.890000    2016.0\n",
              "max    435939.000000     250.000000    2016.0"
            ]
          },
          "metadata": {},
          "execution_count": 85
        }
      ]
    },
    {
      "cell_type": "code",
      "metadata": {
        "id": "0k1E6En9n-S7"
      },
      "source": [
        "customers2017 = data[data['year']==2017]"
      ],
      "execution_count": null,
      "outputs": []
    },
    {
      "cell_type": "code",
      "metadata": {
        "id": "Fi9maHZ8oEs1"
      },
      "source": [
        "#calculating the exisiting customers in 2017 from 2016\n",
        "existcustomers = customers2016[customers2016['customer_email'].isin(customers2017['customer_email'])]"
      ],
      "execution_count": null,
      "outputs": []
    },
    {
      "cell_type": "code",
      "metadata": {
        "colab": {
          "base_uri": "https://localhost:8080/",
          "height": 297
        },
        "id": "-B4vg8NtodK0",
        "outputId": "528e6d1f-3b5d-46e9-9fb8-7c99a349bd93"
      },
      "source": [
        "existcustomers.describe()"
      ],
      "execution_count": null,
      "outputs": [
        {
          "output_type": "execute_result",
          "data": {
            "text/html": [
              "<div>\n",
              "<style scoped>\n",
              "    .dataframe tbody tr th:only-of-type {\n",
              "        vertical-align: middle;\n",
              "    }\n",
              "\n",
              "    .dataframe tbody tr th {\n",
              "        vertical-align: top;\n",
              "    }\n",
              "\n",
              "    .dataframe thead th {\n",
              "        text-align: right;\n",
              "    }\n",
              "</style>\n",
              "<table border=\"1\" class=\"dataframe\">\n",
              "  <thead>\n",
              "    <tr style=\"text-align: right;\">\n",
              "      <th></th>\n",
              "      <th>Unnamed: 0</th>\n",
              "      <th>net_revenue</th>\n",
              "      <th>year</th>\n",
              "    </tr>\n",
              "  </thead>\n",
              "  <tbody>\n",
              "    <tr>\n",
              "      <th>count</th>\n",
              "      <td>20959.000000</td>\n",
              "      <td>20959.000000</td>\n",
              "      <td>20959.0</td>\n",
              "    </tr>\n",
              "    <tr>\n",
              "      <th>mean</th>\n",
              "      <td>333325.722840</td>\n",
              "      <td>125.036913</td>\n",
              "      <td>2016.0</td>\n",
              "    </tr>\n",
              "    <tr>\n",
              "      <th>std</th>\n",
              "      <td>59288.447226</td>\n",
              "      <td>71.551989</td>\n",
              "      <td>0.0</td>\n",
              "    </tr>\n",
              "    <tr>\n",
              "      <th>min</th>\n",
              "      <td>231301.000000</td>\n",
              "      <td>1.010000</td>\n",
              "      <td>2016.0</td>\n",
              "    </tr>\n",
              "    <tr>\n",
              "      <th>25%</th>\n",
              "      <td>281861.500000</td>\n",
              "      <td>63.315000</td>\n",
              "      <td>2016.0</td>\n",
              "    </tr>\n",
              "    <tr>\n",
              "      <th>50%</th>\n",
              "      <td>332788.000000</td>\n",
              "      <td>124.630000</td>\n",
              "      <td>2016.0</td>\n",
              "    </tr>\n",
              "    <tr>\n",
              "      <th>75%</th>\n",
              "      <td>384970.000000</td>\n",
              "      <td>185.910000</td>\n",
              "      <td>2016.0</td>\n",
              "    </tr>\n",
              "    <tr>\n",
              "      <th>max</th>\n",
              "      <td>435937.000000</td>\n",
              "      <td>249.970000</td>\n",
              "      <td>2016.0</td>\n",
              "    </tr>\n",
              "  </tbody>\n",
              "</table>\n",
              "</div>"
            ],
            "text/plain": [
              "          Unnamed: 0   net_revenue     year\n",
              "count   20959.000000  20959.000000  20959.0\n",
              "mean   333325.722840    125.036913   2016.0\n",
              "std     59288.447226     71.551989      0.0\n",
              "min    231301.000000      1.010000   2016.0\n",
              "25%    281861.500000     63.315000   2016.0\n",
              "50%    332788.000000    124.630000   2016.0\n",
              "75%    384970.000000    185.910000   2016.0\n",
              "max    435937.000000    249.970000   2016.0"
            ]
          },
          "metadata": {},
          "execution_count": 90
        }
      ]
    },
    {
      "cell_type": "markdown",
      "metadata": {
        "id": "qBNJfWLco1_E"
      },
      "source": [
        "We can see that out of 204646 customers from 2016, only 20959 exist in 2017. Therefore the lost customers = 183687"
      ]
    },
    {
      "cell_type": "markdown",
      "metadata": {
        "id": "7UQnGpug4Kp4"
      },
      "source": [
        "***PLOTS***"
      ]
    },
    {
      "cell_type": "code",
      "metadata": {
        "id": "5teAwlZl6jzV"
      },
      "source": [
        "data = data.drop(columns=['Unnamed: 0'])"
      ],
      "execution_count": 10,
      "outputs": []
    },
    {
      "cell_type": "code",
      "metadata": {
        "colab": {
          "base_uri": "https://localhost:8080/",
          "height": 197
        },
        "id": "lawCuAEq6Fuz",
        "outputId": "6c882999-464d-469e-f0a5-3036c77d2bd1"
      },
      "source": [
        "#pairplot showing distribution of revenue with year\n",
        "pp = sns.pairplot(data=data,\n",
        "                  y_vars=['year'],\n",
        "                  x_vars=['net_revenue'])"
      ],
      "execution_count": 15,
      "outputs": [
        {
          "output_type": "display_data",
          "data": {
            "image/png": "[encoded data removed]",
            "text/plain": [
              "<Figure size 180x180 with 1 Axes>"
            ]
          },
          "metadata": {
            "needs_background": "light"
          }
        }
      ]
    },
    {
      "cell_type": "code",
      "metadata": {
        "colab": {
          "base_uri": "https://localhost:8080/",
          "height": 270
        },
        "id": "EjTfZBrt7YAb",
        "outputId": "4f9c6fb0-44eb-4e46-8b5c-a5a1479c415a"
      },
      "source": [
        "#correlation between revenue and year\n",
        "a = sns.heatmap(data.corr(),annot=True,cmap='YlGnBu')"
      ],
      "execution_count": 21,
      "outputs": [
        {
          "output_type": "display_data",
          "data": {
            "image/png": "[encoded data removed]",
            "text/plain": [
              "<Figure size 432x288 with 2 Axes>"
            ]
          },
          "metadata": {
            "needs_background": "light"
          }
        }
      ]
    },
    {
      "cell_type": "code",
      "metadata": {
        "id": "JNsm_VayCjWQ",
        "outputId": "19601a21-e300-4e4e-f37a-4eabfb98f2c0",
        "colab": {
          "base_uri": "https://localhost:8080/",
          "height": 623
        }
      },
      "source": [
        "#distribution of revenue\n",
        "#histplot\n",
        "import seaborn as sns\n",
        "bins=[50,100,150,200,250]\n",
        "out=pd.cut(data.net_revenue,\n",
        "          bins=bins,\n",
        "          include_lowest=True)\n",
        "ax=out.value_counts(sort=False).plot.bar(\n",
        "rot=0,\n",
        "color='g',   \n",
        "    \n",
        "figsize=(10,10))\n",
        "plt.xlabel('net_revenue')\n",
        "plt.ylabel('count')\n",
        "plt.show"
      ],
      "execution_count": 8,
      "outputs": [
        {
          "output_type": "execute_result",
          "data": {
            "text/plain": [
              "<function matplotlib.pyplot.show>"
            ]
          },
          "metadata": {},
          "execution_count": 8
        },
        {
          "output_type": "display_data",
          "data": {
            "image/png": "[encoded data removed]",
            "text/plain": [
              "<Figure size 720x720 with 1 Axes>"
            ]
          },
          "metadata": {
            "needs_background": "light"
          }
        }
      ]
    },
    {
      "cell_type": "markdown",
      "metadata": {
        "id": "cnEwbhWADMUO"
      },
      "source": [
        "From the above plots we can observe that the distribution of revenue across year and across the min-max range is almost equal"
      ]
    }
  ]
}